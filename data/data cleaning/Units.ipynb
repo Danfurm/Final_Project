{
 "cells": [
  {
   "cell_type": "code",
   "execution_count": 2,
   "metadata": {},
   "outputs": [],
   "source": [
    "import pandas as pd \n",
    "import matplotlib.pyplot as plt\n",
    "import numpy as np"
   ]
  },
  {
   "cell_type": "code",
   "execution_count": 9,
   "metadata": {},
   "outputs": [
    {
     "data": {
      "text/html": [
       "<div>\n",
       "<style scoped>\n",
       "    .dataframe tbody tr th:only-of-type {\n",
       "        vertical-align: middle;\n",
       "    }\n",
       "\n",
       "    .dataframe tbody tr th {\n",
       "        vertical-align: top;\n",
       "    }\n",
       "\n",
       "    .dataframe thead th {\n",
       "        text-align: right;\n",
       "    }\n",
       "</style>\n",
       "<table border=\"1\" class=\"dataframe\">\n",
       "  <thead>\n",
       "    <tr style=\"text-align: right;\">\n",
       "      <th></th>\n",
       "      <th>Property_Code</th>\n",
       "      <th>Unit_Code</th>\n",
       "      <th>City</th>\n",
       "      <th>State</th>\n",
       "      <th>Rent</th>\n",
       "      <th>SQFT</th>\n",
       "      <th>Rent_Ready</th>\n",
       "      <th>Bedrooms</th>\n",
       "      <th>Bathrooms</th>\n",
       "    </tr>\n",
       "  </thead>\n",
       "  <tbody>\n",
       "    <tr>\n",
       "      <th>0</th>\n",
       "      <td>ce</td>\n",
       "      <td>C0007A</td>\n",
       "      <td>Fairfield</td>\n",
       "      <td>OH</td>\n",
       "      <td>770</td>\n",
       "      <td>675</td>\n",
       "      <td>1</td>\n",
       "      <td>1</td>\n",
       "      <td>1.0</td>\n",
       "    </tr>\n",
       "    <tr>\n",
       "      <th>1</th>\n",
       "      <td>ce</td>\n",
       "      <td>C0007B</td>\n",
       "      <td>Fairfield</td>\n",
       "      <td>OH</td>\n",
       "      <td>770</td>\n",
       "      <td>675</td>\n",
       "      <td>1</td>\n",
       "      <td>1</td>\n",
       "      <td>1.0</td>\n",
       "    </tr>\n",
       "    <tr>\n",
       "      <th>2</th>\n",
       "      <td>ce</td>\n",
       "      <td>C0007C</td>\n",
       "      <td>Fairfield</td>\n",
       "      <td>OH</td>\n",
       "      <td>780</td>\n",
       "      <td>675</td>\n",
       "      <td>1</td>\n",
       "      <td>1</td>\n",
       "      <td>1.0</td>\n",
       "    </tr>\n",
       "    <tr>\n",
       "      <th>3</th>\n",
       "      <td>ce</td>\n",
       "      <td>C0007D</td>\n",
       "      <td>Fairfield</td>\n",
       "      <td>OH</td>\n",
       "      <td>780</td>\n",
       "      <td>675</td>\n",
       "      <td>1</td>\n",
       "      <td>1</td>\n",
       "      <td>1.0</td>\n",
       "    </tr>\n",
       "    <tr>\n",
       "      <th>4</th>\n",
       "      <td>ce</td>\n",
       "      <td>C0007E</td>\n",
       "      <td>Fairfield</td>\n",
       "      <td>OH</td>\n",
       "      <td>770</td>\n",
       "      <td>675</td>\n",
       "      <td>1</td>\n",
       "      <td>1</td>\n",
       "      <td>1.0</td>\n",
       "    </tr>\n",
       "  </tbody>\n",
       "</table>\n",
       "</div>"
      ],
      "text/plain": [
       "  Property_Code Unit_Code       City State  Rent  SQFT  Rent_Ready  Bedrooms  \\\n",
       "0            ce    C0007A  Fairfield    OH   770   675           1         1   \n",
       "1            ce    C0007B  Fairfield    OH   770   675           1         1   \n",
       "2            ce    C0007C  Fairfield    OH   780   675           1         1   \n",
       "3            ce    C0007D  Fairfield    OH   780   675           1         1   \n",
       "4            ce    C0007E  Fairfield    OH   770   675           1         1   \n",
       "\n",
       "   Bathrooms  \n",
       "0        1.0  \n",
       "1        1.0  \n",
       "2        1.0  \n",
       "3        1.0  \n",
       "4        1.0  "
      ]
     },
     "execution_count": 9,
     "metadata": {},
     "output_type": "execute_result"
    }
   ],
   "source": [
    "units = \"common units.csv\"\n",
    "units_df = pd.read_csv(units, header=1)\n",
    "units_df = units_df.drop(columns = [\"Rental_Type\",\"Date_Ready\",\"Address_1\",\"Zip_Code\",\"Exclude\",\"Unit_Type\",\"Notes\",\"Bldg_Code\", \"Available_Date\", \"Floor_Code\", \"Country\", \"Ref_Property_Id\", \"Ext_Ref_Unit_Id\", \"Ref_Building_Id\", \"Ref_Floor_Id\", \"Address_2\",\"Address_3\", \"Address_4\", \"Location\", 'Attributes_2', 'Attributes_3', 'Attributes_4', 'Attributes_5',\n",
    "       'Attributes_6', 'Attributes_7', 'Attributes_8', 'Attributes_9',\n",
    "       'Attributes_10', 'MLA', 'Lease_Type', 'Userdefined_1', 'Userdefined_2',\n",
    "       'Userdefined_3', 'Userdefined_4', 'Userdefined_5', 'Userdefined_6',\n",
    "       'Userdefined_7', 'Userdefined_8', 'Userdefined_9', 'Userdefined_10'])\n",
    "units_df = units_df.rename(columns={\"BedRooms\": \"Bedrooms\",\"Attributes_1\": \"Bathrooms\"})\n",
    "units_df.head()"
   ]
  },
  {
   "cell_type": "code",
   "execution_count": 11,
   "metadata": {},
   "outputs": [
    {
     "data": {
      "text/plain": [
       "Property_Code     object\n",
       "Unit_Code         object\n",
       "City              object\n",
       "State             object\n",
       "Rent               int64\n",
       "SQFT               int64\n",
       "Rent_Ready         int64\n",
       "Bedrooms           int64\n",
       "Bathrooms        float64\n",
       "dtype: object"
      ]
     },
     "execution_count": 11,
     "metadata": {},
     "output_type": "execute_result"
    }
   ],
   "source": [
    "units_df.dtypes"
   ]
  },
  {
   "cell_type": "code",
   "execution_count": 28,
   "metadata": {},
   "outputs": [
    {
     "data": {
      "text/html": [
       "<div>\n",
       "<style scoped>\n",
       "    .dataframe tbody tr th:only-of-type {\n",
       "        vertical-align: middle;\n",
       "    }\n",
       "\n",
       "    .dataframe tbody tr th {\n",
       "        vertical-align: top;\n",
       "    }\n",
       "\n",
       "    .dataframe thead th {\n",
       "        text-align: right;\n",
       "    }\n",
       "</style>\n",
       "<table border=\"1\" class=\"dataframe\">\n",
       "  <thead>\n",
       "    <tr style=\"text-align: right;\">\n",
       "      <th></th>\n",
       "      <th>Property_Code</th>\n",
       "      <th>Unit_Code</th>\n",
       "      <th>City</th>\n",
       "      <th>State</th>\n",
       "      <th>Rent</th>\n",
       "      <th>SQFT</th>\n",
       "      <th>Rent_Ready</th>\n",
       "      <th>Bedrooms</th>\n",
       "      <th>Bathrooms</th>\n",
       "    </tr>\n",
       "  </thead>\n",
       "  <tbody>\n",
       "    <tr>\n",
       "      <th>0</th>\n",
       "      <td>ce</td>\n",
       "      <td>C0007A</td>\n",
       "      <td>Fairfield</td>\n",
       "      <td>OH</td>\n",
       "      <td>770</td>\n",
       "      <td>675</td>\n",
       "      <td>1</td>\n",
       "      <td>1</td>\n",
       "      <td>1.0</td>\n",
       "    </tr>\n",
       "    <tr>\n",
       "      <th>1</th>\n",
       "      <td>ce</td>\n",
       "      <td>C0007B</td>\n",
       "      <td>Fairfield</td>\n",
       "      <td>OH</td>\n",
       "      <td>770</td>\n",
       "      <td>675</td>\n",
       "      <td>1</td>\n",
       "      <td>1</td>\n",
       "      <td>1.0</td>\n",
       "    </tr>\n",
       "    <tr>\n",
       "      <th>2</th>\n",
       "      <td>ce</td>\n",
       "      <td>C0007C</td>\n",
       "      <td>Fairfield</td>\n",
       "      <td>OH</td>\n",
       "      <td>780</td>\n",
       "      <td>675</td>\n",
       "      <td>1</td>\n",
       "      <td>1</td>\n",
       "      <td>1.0</td>\n",
       "    </tr>\n",
       "    <tr>\n",
       "      <th>3</th>\n",
       "      <td>ce</td>\n",
       "      <td>C0007D</td>\n",
       "      <td>Fairfield</td>\n",
       "      <td>OH</td>\n",
       "      <td>780</td>\n",
       "      <td>675</td>\n",
       "      <td>1</td>\n",
       "      <td>1</td>\n",
       "      <td>1.0</td>\n",
       "    </tr>\n",
       "    <tr>\n",
       "      <th>4</th>\n",
       "      <td>ce</td>\n",
       "      <td>C0007E</td>\n",
       "      <td>Fairfield</td>\n",
       "      <td>OH</td>\n",
       "      <td>770</td>\n",
       "      <td>675</td>\n",
       "      <td>1</td>\n",
       "      <td>1</td>\n",
       "      <td>1.0</td>\n",
       "    </tr>\n",
       "  </tbody>\n",
       "</table>\n",
       "</div>"
      ],
      "text/plain": [
       "  Property_Code Unit_Code       City State  Rent  SQFT  Rent_Ready  Bedrooms  \\\n",
       "0            ce    C0007A  Fairfield    OH   770   675           1         1   \n",
       "1            ce    C0007B  Fairfield    OH   770   675           1         1   \n",
       "2            ce    C0007C  Fairfield    OH   780   675           1         1   \n",
       "3            ce    C0007D  Fairfield    OH   780   675           1         1   \n",
       "4            ce    C0007E  Fairfield    OH   770   675           1         1   \n",
       "\n",
       "   Bathrooms  \n",
       "0        1.0  \n",
       "1        1.0  \n",
       "2        1.0  \n",
       "3        1.0  \n",
       "4        1.0  "
      ]
     },
     "execution_count": 28,
     "metadata": {},
     "output_type": "execute_result"
    }
   ],
   "source": [
    "indexNames = units_df[units_df[\"Rent\"]==0].index\n",
    "units_df.drop(indexNames, inplace = True)\n",
    "units_df.head()"
   ]
  },
  {
   "cell_type": "code",
   "execution_count": 26,
   "metadata": {},
   "outputs": [
    {
     "data": {
      "text/plain": [
       "1699"
      ]
     },
     "execution_count": 26,
     "metadata": {},
     "output_type": "execute_result"
    }
   ],
   "source": [
    "max(units_df[\"Rent\"])"
   ]
  },
  {
   "cell_type": "code",
   "execution_count": 27,
   "metadata": {},
   "outputs": [
    {
     "data": {
      "text/plain": [
       "599"
      ]
     },
     "execution_count": 27,
     "metadata": {},
     "output_type": "execute_result"
    }
   ],
   "source": [
    "min(units_df[\"Rent\"])"
   ]
  },
  {
   "cell_type": "code",
   "execution_count": 30,
   "metadata": {},
   "outputs": [
    {
     "data": {
      "text/plain": [
       "1400"
      ]
     },
     "execution_count": 30,
     "metadata": {},
     "output_type": "execute_result"
    }
   ],
   "source": [
    "max(units_df[\"SQFT\"])"
   ]
  },
  {
   "cell_type": "code",
   "execution_count": 31,
   "metadata": {},
   "outputs": [
    {
     "data": {
      "text/plain": [
       "387"
      ]
     },
     "execution_count": 31,
     "metadata": {},
     "output_type": "execute_result"
    }
   ],
   "source": [
    "min(units_df[\"SQFT\"])"
   ]
  },
  {
   "cell_type": "code",
   "execution_count": 33,
   "metadata": {},
   "outputs": [
    {
     "data": {
      "text/html": [
       "<div>\n",
       "<style scoped>\n",
       "    .dataframe tbody tr th:only-of-type {\n",
       "        vertical-align: middle;\n",
       "    }\n",
       "\n",
       "    .dataframe tbody tr th {\n",
       "        vertical-align: top;\n",
       "    }\n",
       "\n",
       "    .dataframe thead th {\n",
       "        text-align: right;\n",
       "    }\n",
       "</style>\n",
       "<table border=\"1\" class=\"dataframe\">\n",
       "  <thead>\n",
       "    <tr style=\"text-align: right;\">\n",
       "      <th></th>\n",
       "      <th>Unit_Code</th>\n",
       "      <th>City</th>\n",
       "      <th>State</th>\n",
       "      <th>Rent</th>\n",
       "      <th>SQFT</th>\n",
       "      <th>Rent_Ready</th>\n",
       "      <th>Bedrooms</th>\n",
       "      <th>Bathrooms</th>\n",
       "    </tr>\n",
       "    <tr>\n",
       "      <th>Property_Code</th>\n",
       "      <th></th>\n",
       "      <th></th>\n",
       "      <th></th>\n",
       "      <th></th>\n",
       "      <th></th>\n",
       "      <th></th>\n",
       "      <th></th>\n",
       "      <th></th>\n",
       "    </tr>\n",
       "  </thead>\n",
       "  <tbody>\n",
       "    <tr>\n",
       "      <th>ce</th>\n",
       "      <td>492</td>\n",
       "      <td>492</td>\n",
       "      <td>492</td>\n",
       "      <td>492</td>\n",
       "      <td>492</td>\n",
       "      <td>492</td>\n",
       "      <td>492</td>\n",
       "      <td>492</td>\n",
       "    </tr>\n",
       "    <tr>\n",
       "      <th>fh</th>\n",
       "      <td>408</td>\n",
       "      <td>408</td>\n",
       "      <td>408</td>\n",
       "      <td>408</td>\n",
       "      <td>408</td>\n",
       "      <td>408</td>\n",
       "      <td>408</td>\n",
       "      <td>402</td>\n",
       "    </tr>\n",
       "    <tr>\n",
       "      <th>mpg</th>\n",
       "      <td>354</td>\n",
       "      <td>354</td>\n",
       "      <td>354</td>\n",
       "      <td>354</td>\n",
       "      <td>354</td>\n",
       "      <td>354</td>\n",
       "      <td>354</td>\n",
       "      <td>344</td>\n",
       "    </tr>\n",
       "    <tr>\n",
       "      <th>sh</th>\n",
       "      <td>516</td>\n",
       "      <td>516</td>\n",
       "      <td>516</td>\n",
       "      <td>516</td>\n",
       "      <td>516</td>\n",
       "      <td>516</td>\n",
       "      <td>516</td>\n",
       "      <td>506</td>\n",
       "    </tr>\n",
       "  </tbody>\n",
       "</table>\n",
       "</div>"
      ],
      "text/plain": [
       "               Unit_Code  City  State  Rent  SQFT  Rent_Ready  Bedrooms  \\\n",
       "Property_Code                                                             \n",
       "ce                   492   492    492   492   492         492       492   \n",
       "fh                   408   408    408   408   408         408       408   \n",
       "mpg                  354   354    354   354   354         354       354   \n",
       "sh                   516   516    516   516   516         516       516   \n",
       "\n",
       "               Bathrooms  \n",
       "Property_Code             \n",
       "ce                   492  \n",
       "fh                   402  \n",
       "mpg                  344  \n",
       "sh                   506  "
      ]
     },
     "execution_count": 33,
     "metadata": {},
     "output_type": "execute_result"
    }
   ],
   "source": [
    "units_count = units_df.groupby(\"Property_Code\").count()\n",
    "units_count"
   ]
  },
  {
   "cell_type": "code",
   "execution_count": 34,
   "metadata": {},
   "outputs": [],
   "source": [
    "units_df.to_csv(\"units_final.csv\")"
   ]
  }
 ],
 "metadata": {
  "kernelspec": {
   "display_name": "Python 3",
   "language": "python",
   "name": "python3"
  },
  "language_info": {
   "codemirror_mode": {
    "name": "ipython",
    "version": 3
   },
   "file_extension": ".py",
   "mimetype": "text/x-python",
   "name": "python",
   "nbconvert_exporter": "python",
   "pygments_lexer": "ipython3",
   "version": "3.6.5"
  }
 },
 "nbformat": 4,
 "nbformat_minor": 2
}
