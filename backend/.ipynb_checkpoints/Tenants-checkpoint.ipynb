{
 "cells": [
  {
   "cell_type": "code",
   "execution_count": 1,
   "metadata": {},
   "outputs": [],
   "source": [
    "import pandas as pd \n",
    "import matplotlib.pyplot as plt\n",
    "import numpy as np\n",
    "from datetime import datetime"
   ]
  },
  {
   "cell_type": "code",
   "execution_count": 2,
   "metadata": {},
   "outputs": [
    {
     "name": "stderr",
     "output_type": "stream",
     "text": [
      "C:\\Users\\basis\\Anaconda3\\lib\\site-packages\\IPython\\core\\interactiveshell.py:2785: DtypeWarning: Columns (1,4,8,17,18,19,20,21,22,25) have mixed types. Specify dtype option on import or set low_memory=False.\n",
      "  interactivity=interactivity, compiler=compiler, result=result)\n"
     ]
    },
    {
     "data": {
      "text/html": [
       "<div>\n",
       "<style scoped>\n",
       "    .dataframe tbody tr th:only-of-type {\n",
       "        vertical-align: middle;\n",
       "    }\n",
       "\n",
       "    .dataframe tbody tr th {\n",
       "        vertical-align: top;\n",
       "    }\n",
       "\n",
       "    .dataframe thead th {\n",
       "        text-align: right;\n",
       "    }\n",
       "</style>\n",
       "<table border=\"1\" class=\"dataframe\">\n",
       "  <thead>\n",
       "    <tr style=\"text-align: right;\">\n",
       "      <th></th>\n",
       "      <th>ResTenantHistory</th>\n",
       "      <th>Unnamed: 1</th>\n",
       "      <th>Unnamed: 2</th>\n",
       "      <th>Unnamed: 3</th>\n",
       "      <th>Unnamed: 4</th>\n",
       "      <th>Unnamed: 5</th>\n",
       "      <th>Unnamed: 6</th>\n",
       "      <th>Unnamed: 7</th>\n",
       "      <th>Unnamed: 8</th>\n",
       "      <th>Unnamed: 9</th>\n",
       "      <th>...</th>\n",
       "      <th>Unnamed: 16</th>\n",
       "      <th>Unnamed: 17</th>\n",
       "      <th>Unnamed: 18</th>\n",
       "      <th>Unnamed: 19</th>\n",
       "      <th>Unnamed: 20</th>\n",
       "      <th>Unnamed: 21</th>\n",
       "      <th>Unnamed: 22</th>\n",
       "      <th>Unnamed: 23</th>\n",
       "      <th>Unnamed: 24</th>\n",
       "      <th>Unnamed: 25</th>\n",
       "    </tr>\n",
       "  </thead>\n",
       "  <tbody>\n",
       "    <tr>\n",
       "      <th>0</th>\n",
       "      <td>Property_Code</td>\n",
       "      <td>Ref_Property_ID</td>\n",
       "      <td>Date</td>\n",
       "      <td>Tenant_Code</td>\n",
       "      <td>Ext_Ref_Tenant_Id</td>\n",
       "      <td>Event</td>\n",
       "      <td>DateOccurred</td>\n",
       "      <td>Unit_Code</td>\n",
       "      <td>Ref_Unit_Id</td>\n",
       "      <td>DateApply</td>\n",
       "      <td>...</td>\n",
       "      <td>DateNotice</td>\n",
       "      <td>RentedEvent</td>\n",
       "      <td>UnRentedEvent</td>\n",
       "      <td>Status</td>\n",
       "      <td>Rent</td>\n",
       "      <td>Deposit</td>\n",
       "      <td>Sqft</td>\n",
       "      <td>Notes</td>\n",
       "      <td>Reason</td>\n",
       "      <td>MTM</td>\n",
       "    </tr>\n",
       "    <tr>\n",
       "      <th>1</th>\n",
       "      <td>sh</td>\n",
       "      <td>NaN</td>\n",
       "      <td>11/18/2016</td>\n",
       "      <td>t0031357</td>\n",
       "      <td>NaN</td>\n",
       "      <td>Deposit Change</td>\n",
       "      <td>11/22/2016</td>\n",
       "      <td>WC5956H</td>\n",
       "      <td>NaN</td>\n",
       "      <td>11/16/2016</td>\n",
       "      <td>...</td>\n",
       "      <td>NaN</td>\n",
       "      <td>0</td>\n",
       "      <td>0</td>\n",
       "      <td>2</td>\n",
       "      <td>641</td>\n",
       "      <td>99</td>\n",
       "      <td>0</td>\n",
       "      <td>NaN</td>\n",
       "      <td>NaN</td>\n",
       "      <td>0</td>\n",
       "    </tr>\n",
       "    <tr>\n",
       "      <th>2</th>\n",
       "      <td>ce</td>\n",
       "      <td>NaN</td>\n",
       "      <td>11/22/2016</td>\n",
       "      <td>t0031261</td>\n",
       "      <td>NaN</td>\n",
       "      <td>Deposit Change</td>\n",
       "      <td>11/22/2016</td>\n",
       "      <td>M0008A</td>\n",
       "      <td>NaN</td>\n",
       "      <td>11/3/2016</td>\n",
       "      <td>...</td>\n",
       "      <td>NaN</td>\n",
       "      <td>0</td>\n",
       "      <td>0</td>\n",
       "      <td>0</td>\n",
       "      <td>728</td>\n",
       "      <td>708</td>\n",
       "      <td>0</td>\n",
       "      <td>NaN</td>\n",
       "      <td>NaN</td>\n",
       "      <td>0</td>\n",
       "    </tr>\n",
       "    <tr>\n",
       "      <th>3</th>\n",
       "      <td>ce</td>\n",
       "      <td>NaN</td>\n",
       "      <td>11/18/2016</td>\n",
       "      <td>t0031367</td>\n",
       "      <td>NaN</td>\n",
       "      <td>Deposit Change</td>\n",
       "      <td>11/22/2016</td>\n",
       "      <td>M0008A</td>\n",
       "      <td>NaN</td>\n",
       "      <td>11/17/2016</td>\n",
       "      <td>...</td>\n",
       "      <td>NaN</td>\n",
       "      <td>0</td>\n",
       "      <td>0</td>\n",
       "      <td>9</td>\n",
       "      <td>728</td>\n",
       "      <td>50</td>\n",
       "      <td>0</td>\n",
       "      <td>NaN</td>\n",
       "      <td>NaN</td>\n",
       "      <td>0</td>\n",
       "    </tr>\n",
       "    <tr>\n",
       "      <th>4</th>\n",
       "      <td>ce</td>\n",
       "      <td>NaN</td>\n",
       "      <td>11/18/2016</td>\n",
       "      <td>t0031350</td>\n",
       "      <td>NaN</td>\n",
       "      <td>Deposit Change</td>\n",
       "      <td>11/22/2016</td>\n",
       "      <td>M0012B</td>\n",
       "      <td>NaN</td>\n",
       "      <td>11/16/2016</td>\n",
       "      <td>...</td>\n",
       "      <td>NaN</td>\n",
       "      <td>0</td>\n",
       "      <td>0</td>\n",
       "      <td>9</td>\n",
       "      <td>888</td>\n",
       "      <td>50</td>\n",
       "      <td>0</td>\n",
       "      <td>NaN</td>\n",
       "      <td>NaN</td>\n",
       "      <td>0</td>\n",
       "    </tr>\n",
       "  </tbody>\n",
       "</table>\n",
       "<p>5 rows × 26 columns</p>\n",
       "</div>"
      ],
      "text/plain": [
       "  ResTenantHistory       Unnamed: 1  Unnamed: 2   Unnamed: 3  \\\n",
       "0    Property_Code  Ref_Property_ID        Date  Tenant_Code   \n",
       "1               sh              NaN  11/18/2016     t0031357   \n",
       "2               ce              NaN  11/22/2016     t0031261   \n",
       "3               ce              NaN  11/18/2016     t0031367   \n",
       "4               ce              NaN  11/18/2016     t0031350   \n",
       "\n",
       "          Unnamed: 4      Unnamed: 5    Unnamed: 6 Unnamed: 7   Unnamed: 8  \\\n",
       "0  Ext_Ref_Tenant_Id           Event  DateOccurred  Unit_Code  Ref_Unit_Id   \n",
       "1                NaN  Deposit Change    11/22/2016    WC5956H          NaN   \n",
       "2                NaN  Deposit Change    11/22/2016     M0008A          NaN   \n",
       "3                NaN  Deposit Change    11/22/2016     M0008A          NaN   \n",
       "4                NaN  Deposit Change    11/22/2016     M0012B          NaN   \n",
       "\n",
       "   Unnamed: 9     ...     Unnamed: 16  Unnamed: 17    Unnamed: 18 Unnamed: 19  \\\n",
       "0   DateApply     ...      DateNotice  RentedEvent  UnRentedEvent      Status   \n",
       "1  11/16/2016     ...             NaN            0              0           2   \n",
       "2   11/3/2016     ...             NaN            0              0           0   \n",
       "3  11/17/2016     ...             NaN            0              0           9   \n",
       "4  11/16/2016     ...             NaN            0              0           9   \n",
       "\n",
       "  Unnamed: 20 Unnamed: 21 Unnamed: 22 Unnamed: 23 Unnamed: 24 Unnamed: 25  \n",
       "0        Rent     Deposit        Sqft       Notes      Reason         MTM  \n",
       "1         641          99           0         NaN         NaN           0  \n",
       "2         728         708           0         NaN         NaN           0  \n",
       "3         728          50           0         NaN         NaN           0  \n",
       "4         888          50           0         NaN         NaN           0  \n",
       "\n",
       "[5 rows x 26 columns]"
      ]
     },
     "execution_count": 2,
     "metadata": {},
     "output_type": "execute_result"
    }
   ],
   "source": [
    "tenants = \"data/Tenant_History.csv\"\n",
    "tenants_df = pd.read_csv(tenants)\n",
    "tenants_df.head()"
   ]
  },
  {
   "cell_type": "code",
   "execution_count": 3,
   "metadata": {},
   "outputs": [
    {
     "ename": "KeyError",
     "evalue": "\"labels ['Ref_Property_ID' 'Ext_Ref_Tenant_Id' 'Ref_Unit_Id' 'Date'] not contained in axis\"",
     "output_type": "error",
     "traceback": [
      "\u001b[1;31m---------------------------------------------------------------------------\u001b[0m",
      "\u001b[1;31mKeyError\u001b[0m                                  Traceback (most recent call last)",
      "\u001b[1;32m<ipython-input-3-e459ab6ab8e8>\u001b[0m in \u001b[0;36m<module>\u001b[1;34m()\u001b[0m\n\u001b[1;32m----> 1\u001b[1;33m \u001b[0mtenants_df\u001b[0m \u001b[1;33m=\u001b[0m \u001b[0mtenants_df\u001b[0m\u001b[1;33m.\u001b[0m\u001b[0mdrop\u001b[0m\u001b[1;33m(\u001b[0m\u001b[0mcolumns\u001b[0m \u001b[1;33m=\u001b[0m \u001b[1;33m[\u001b[0m\u001b[1;34m\"Ref_Property_ID\"\u001b[0m\u001b[1;33m,\u001b[0m \u001b[1;34m\"Ext_Ref_Tenant_Id\"\u001b[0m\u001b[1;33m,\u001b[0m \u001b[1;34m\"Ref_Unit_Id\"\u001b[0m\u001b[1;33m,\u001b[0m \u001b[1;34m\"Date\"\u001b[0m\u001b[1;33m]\u001b[0m\u001b[1;33m)\u001b[0m\u001b[1;33m\u001b[0m\u001b[0m\n\u001b[0m",
      "\u001b[1;32m~\\Anaconda3\\lib\\site-packages\\pandas\\core\\frame.py\u001b[0m in \u001b[0;36mdrop\u001b[1;34m(self, labels, axis, index, columns, level, inplace, errors)\u001b[0m\n\u001b[0;32m   3692\u001b[0m                                            \u001b[0mindex\u001b[0m\u001b[1;33m=\u001b[0m\u001b[0mindex\u001b[0m\u001b[1;33m,\u001b[0m \u001b[0mcolumns\u001b[0m\u001b[1;33m=\u001b[0m\u001b[0mcolumns\u001b[0m\u001b[1;33m,\u001b[0m\u001b[1;33m\u001b[0m\u001b[0m\n\u001b[0;32m   3693\u001b[0m                                            \u001b[0mlevel\u001b[0m\u001b[1;33m=\u001b[0m\u001b[0mlevel\u001b[0m\u001b[1;33m,\u001b[0m \u001b[0minplace\u001b[0m\u001b[1;33m=\u001b[0m\u001b[0minplace\u001b[0m\u001b[1;33m,\u001b[0m\u001b[1;33m\u001b[0m\u001b[0m\n\u001b[1;32m-> 3694\u001b[1;33m                                            errors=errors)\n\u001b[0m\u001b[0;32m   3695\u001b[0m \u001b[1;33m\u001b[0m\u001b[0m\n\u001b[0;32m   3696\u001b[0m     @rewrite_axis_style_signature('mapper', [('copy', True),\n",
      "\u001b[1;32m~\\Anaconda3\\lib\\site-packages\\pandas\\core\\generic.py\u001b[0m in \u001b[0;36mdrop\u001b[1;34m(self, labels, axis, index, columns, level, inplace, errors)\u001b[0m\n\u001b[0;32m   3106\u001b[0m         \u001b[1;32mfor\u001b[0m \u001b[0maxis\u001b[0m\u001b[1;33m,\u001b[0m \u001b[0mlabels\u001b[0m \u001b[1;32min\u001b[0m \u001b[0maxes\u001b[0m\u001b[1;33m.\u001b[0m\u001b[0mitems\u001b[0m\u001b[1;33m(\u001b[0m\u001b[1;33m)\u001b[0m\u001b[1;33m:\u001b[0m\u001b[1;33m\u001b[0m\u001b[0m\n\u001b[0;32m   3107\u001b[0m             \u001b[1;32mif\u001b[0m \u001b[0mlabels\u001b[0m \u001b[1;32mis\u001b[0m \u001b[1;32mnot\u001b[0m \u001b[1;32mNone\u001b[0m\u001b[1;33m:\u001b[0m\u001b[1;33m\u001b[0m\u001b[0m\n\u001b[1;32m-> 3108\u001b[1;33m                 \u001b[0mobj\u001b[0m \u001b[1;33m=\u001b[0m \u001b[0mobj\u001b[0m\u001b[1;33m.\u001b[0m\u001b[0m_drop_axis\u001b[0m\u001b[1;33m(\u001b[0m\u001b[0mlabels\u001b[0m\u001b[1;33m,\u001b[0m \u001b[0maxis\u001b[0m\u001b[1;33m,\u001b[0m \u001b[0mlevel\u001b[0m\u001b[1;33m=\u001b[0m\u001b[0mlevel\u001b[0m\u001b[1;33m,\u001b[0m \u001b[0merrors\u001b[0m\u001b[1;33m=\u001b[0m\u001b[0merrors\u001b[0m\u001b[1;33m)\u001b[0m\u001b[1;33m\u001b[0m\u001b[0m\n\u001b[0m\u001b[0;32m   3109\u001b[0m \u001b[1;33m\u001b[0m\u001b[0m\n\u001b[0;32m   3110\u001b[0m         \u001b[1;32mif\u001b[0m \u001b[0minplace\u001b[0m\u001b[1;33m:\u001b[0m\u001b[1;33m\u001b[0m\u001b[0m\n",
      "\u001b[1;32m~\\Anaconda3\\lib\\site-packages\\pandas\\core\\generic.py\u001b[0m in \u001b[0;36m_drop_axis\u001b[1;34m(self, labels, axis, level, errors)\u001b[0m\n\u001b[0;32m   3138\u001b[0m                 \u001b[0mnew_axis\u001b[0m \u001b[1;33m=\u001b[0m \u001b[0maxis\u001b[0m\u001b[1;33m.\u001b[0m\u001b[0mdrop\u001b[0m\u001b[1;33m(\u001b[0m\u001b[0mlabels\u001b[0m\u001b[1;33m,\u001b[0m \u001b[0mlevel\u001b[0m\u001b[1;33m=\u001b[0m\u001b[0mlevel\u001b[0m\u001b[1;33m,\u001b[0m \u001b[0merrors\u001b[0m\u001b[1;33m=\u001b[0m\u001b[0merrors\u001b[0m\u001b[1;33m)\u001b[0m\u001b[1;33m\u001b[0m\u001b[0m\n\u001b[0;32m   3139\u001b[0m             \u001b[1;32melse\u001b[0m\u001b[1;33m:\u001b[0m\u001b[1;33m\u001b[0m\u001b[0m\n\u001b[1;32m-> 3140\u001b[1;33m                 \u001b[0mnew_axis\u001b[0m \u001b[1;33m=\u001b[0m \u001b[0maxis\u001b[0m\u001b[1;33m.\u001b[0m\u001b[0mdrop\u001b[0m\u001b[1;33m(\u001b[0m\u001b[0mlabels\u001b[0m\u001b[1;33m,\u001b[0m \u001b[0merrors\u001b[0m\u001b[1;33m=\u001b[0m\u001b[0merrors\u001b[0m\u001b[1;33m)\u001b[0m\u001b[1;33m\u001b[0m\u001b[0m\n\u001b[0m\u001b[0;32m   3141\u001b[0m             \u001b[0mdropped\u001b[0m \u001b[1;33m=\u001b[0m \u001b[0mself\u001b[0m\u001b[1;33m.\u001b[0m\u001b[0mreindex\u001b[0m\u001b[1;33m(\u001b[0m\u001b[1;33m**\u001b[0m\u001b[1;33m{\u001b[0m\u001b[0maxis_name\u001b[0m\u001b[1;33m:\u001b[0m \u001b[0mnew_axis\u001b[0m\u001b[1;33m}\u001b[0m\u001b[1;33m)\u001b[0m\u001b[1;33m\u001b[0m\u001b[0m\n\u001b[0;32m   3142\u001b[0m             \u001b[1;32mtry\u001b[0m\u001b[1;33m:\u001b[0m\u001b[1;33m\u001b[0m\u001b[0m\n",
      "\u001b[1;32m~\\Anaconda3\\lib\\site-packages\\pandas\\core\\indexes\\base.py\u001b[0m in \u001b[0;36mdrop\u001b[1;34m(self, labels, errors)\u001b[0m\n\u001b[0;32m   4385\u001b[0m             \u001b[1;32mif\u001b[0m \u001b[0merrors\u001b[0m \u001b[1;33m!=\u001b[0m \u001b[1;34m'ignore'\u001b[0m\u001b[1;33m:\u001b[0m\u001b[1;33m\u001b[0m\u001b[0m\n\u001b[0;32m   4386\u001b[0m                 raise KeyError(\n\u001b[1;32m-> 4387\u001b[1;33m                     'labels %s not contained in axis' % labels[mask])\n\u001b[0m\u001b[0;32m   4388\u001b[0m             \u001b[0mindexer\u001b[0m \u001b[1;33m=\u001b[0m \u001b[0mindexer\u001b[0m\u001b[1;33m[\u001b[0m\u001b[1;33m~\u001b[0m\u001b[0mmask\u001b[0m\u001b[1;33m]\u001b[0m\u001b[1;33m\u001b[0m\u001b[0m\n\u001b[0;32m   4389\u001b[0m         \u001b[1;32mreturn\u001b[0m \u001b[0mself\u001b[0m\u001b[1;33m.\u001b[0m\u001b[0mdelete\u001b[0m\u001b[1;33m(\u001b[0m\u001b[0mindexer\u001b[0m\u001b[1;33m)\u001b[0m\u001b[1;33m\u001b[0m\u001b[0m\n",
      "\u001b[1;31mKeyError\u001b[0m: \"labels ['Ref_Property_ID' 'Ext_Ref_Tenant_Id' 'Ref_Unit_Id' 'Date'] not contained in axis\""
     ]
    }
   ],
   "source": [
    "tenants_df = tenants_df.drop(columns = [\"Ref_Property_ID\", \"Ext_Ref_Tenant_Id\", \"Ref_Unit_Id\", \"Date\"])"
   ]
  },
  {
   "cell_type": "code",
   "execution_count": null,
   "metadata": {},
   "outputs": [],
   "source": [
    "tenants_df[\"DateOccurred\"] = pd.to_datetime(tenants_df[\"DateOccurred\"], format= '%m/%d/%Y')\n",
    "tenants_df[\"DateApply\"] = pd.to_datetime(tenants_df[\"DateApply\"], format= '%m/%d/%Y')\n",
    "tenants_df[\"DateApprove\"] = pd.to_datetime(tenants_df[\"DateApprove\"], format= '%m/%d/%Y')\n",
    "tenants_df[\"DateSign\"] = pd.to_datetime(tenants_df[\"DateSign\"], format= '%m/%d/%Y')\n",
    "tenants_df[\"DateMoveIn\"] = pd.to_datetime(tenants_df[\"DateMoveIn\"], format= '%m/%d/%Y')\n",
    "tenants_df[\"DateMoveOut\"] = pd.to_datetime(tenants_df[\"DateMoveOut\"], format= '%m/%d/%Y')\n",
    "tenants_df[\"DateLeaseFrom\"] = pd.to_datetime(tenants_df[\"DateLeaseFrom\"], format= '%m/%d/%Y')\n",
    "tenants_df[\"DateLeaseTo\"] = pd.to_datetime(tenants_df[\"DateLeaseTo\"], format= '%m/%d/%Y')\n",
    "tenants_df[\"DateNotice\"] = pd.to_datetime(tenants_df[\"DateNotice\"], format= '%m/%d/%Y')\n",
    "tenants_df[\"Length of Stay\"]= tenants_df[\"DateMoveOut\"] - tenants_df[\"DateMoveIn\"]\n",
    "tenants_df.sort_values(by=[\"Unit_Code\"])"
   ]
  },
  {
   "cell_type": "code",
   "execution_count": null,
   "metadata": {},
   "outputs": [],
   "source": [
    "rent_change = tenants_df.loc[tenants_df[\"Event\"] == \"Rent Change\"]\n",
    "rent_change[\"Days to Move\"] = rent_change[\"DateMoveOut\"] - rent_change[\"DateOccurred\"]\n",
    "rent_change.sort_values(by=[\"Unit_Code\"])"
   ]
  },
  {
   "cell_type": "code",
   "execution_count": null,
   "metadata": {},
   "outputs": [],
   "source": [
    "sh = tenants_df.loc[tenants_df[\"Property_Code\"] == \"sh\"]\n",
    "sh_rent = sh.loc[sh[\"Event\"] == \"Rent Change\"]\n",
    "sh_rent.head()"
   ]
  },
  {
   "cell_type": "code",
   "execution_count": null,
   "metadata": {},
   "outputs": [],
   "source": [
    "moveout = tenants_df.dropna(subset = [\"DateMoveOut\"])\n",
    "moveout.sort_values([\"DateMoveOut\", \"Unit_Code\"])"
   ]
  },
  {
   "cell_type": "code",
   "execution_count": null,
   "metadata": {},
   "outputs": [],
   "source": [
    "moveout_event = moveout.groupby(\"Event\").count()\n",
    "moveout_event.head()"
   ]
  },
  {
   "cell_type": "code",
   "execution_count": null,
   "metadata": {},
   "outputs": [],
   "source": [
    "cannotafford = tenants_df.loc[tenants_df[\"Notes\"] == \"Cannot Afford Apartment\"]\n",
    "cannotafford_df = cannotafford.groupby(\"Event\").count()\n",
    "cannotafford_df.head(25)"
   ]
  },
  {
   "cell_type": "code",
   "execution_count": null,
   "metadata": {},
   "outputs": [],
   "source": [
    "apt_types = \"common units.csv\"\n",
    "apt_types_df = pd.read_csv(apt_types, header=1)\n",
    "apt_types_df = apt_types_df.drop(columns = [\"Bldg_Code\", \"Available_Date\", \"Floor_Code\", \"Country\", \"Ref_Property_Id\", \"Ext_Ref_Unit_Id\", \"Ref_Building_Id\", \"Ref_Floor_Id\", \"Address_2\",\"Address_3\", \"Address_4\", \"Location\", 'Attributes_2', 'Attributes_3', 'Attributes_4', 'Attributes_5',\n",
    "       'Attributes_6', 'Attributes_7', 'Attributes_8', 'Attributes_9',\n",
    "       'Attributes_10', 'MLA', 'Lease_Type', 'Userdefined_1', 'Userdefined_2',\n",
    "       'Userdefined_3', 'Userdefined_4', 'Userdefined_5', 'Userdefined_6',\n",
    "       'Userdefined_7', 'Userdefined_8', 'Userdefined_9', 'Userdefined_10'])\n",
    "apt_types_df.head()"
   ]
  },
  {
   "cell_type": "code",
   "execution_count": null,
   "metadata": {},
   "outputs": [],
   "source": [
    "moveout = moveout.dropna(subset = [\"Unit_Code\"])\n",
    "apt_types_df = apt_types_df.dropna(subset = [\"Unit_Code\"])\n",
    "moveout[\"Unit_Code\"] = moveout.Unit_Code.astype(str)\n",
    "apt_types_df[\"Unit_Code\"] = apt_types_df.Unit_Code.astype(str)"
   ]
  },
  {
   "cell_type": "code",
   "execution_count": null,
   "metadata": {},
   "outputs": [],
   "source": [
    "tenant_apt = pd.merge(moveout, apt_types_df, on = \"Unit_Code\", how= \"inner\")\n",
    "tenant_apt.head()"
   ]
  },
  {
   "cell_type": "code",
   "execution_count": null,
   "metadata": {},
   "outputs": [],
   "source": [
    "tenant_apt = tenant_apt.drop(columns = [\"Address_1\", \"DateApply\", \"MTM\", \"RentedEvent\", \"UnRentedEvent\", \"Status\", \"DateApprove\", \"DateSign\", \"Rent_x\", \"Property_Code_y\", \"Exclude\", \"DateNotice\", \"Rent_Ready\" , \"Unit_Type\", \"Date_Ready\"])\n",
    "tenant_apt.sort_values([\"DateMoveOut\", \"Unit_Code\"])"
   ]
  },
  {
   "cell_type": "code",
   "execution_count": null,
   "metadata": {},
   "outputs": [],
   "source": [
    "tenant_apt.to_csv(\"\")\n",
    "df.to_csv(file_name, sep='\\t')_"
   ]
  }
 ],
 "metadata": {
  "kernelspec": {
   "display_name": "Python 3",
   "language": "python",
   "name": "python3"
  },
  "language_info": {
   "codemirror_mode": {
    "name": "ipython",
    "version": 3
   },
   "file_extension": ".py",
   "mimetype": "text/x-python",
   "name": "python",
   "nbconvert_exporter": "python",
   "pygments_lexer": "ipython3",
   "version": "3.6.5"
  }
 },
 "nbformat": 4,
 "nbformat_minor": 2
}
